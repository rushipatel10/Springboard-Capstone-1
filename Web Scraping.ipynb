{
 "cells": [
  {
   "cell_type": "code",
   "execution_count": 1,
   "metadata": {},
   "outputs": [],
   "source": [
    "import requests\n",
    "import pandas as pd"
   ]
  },
  {
   "cell_type": "code",
   "execution_count": 2,
   "metadata": {},
   "outputs": [],
   "source": [
    "from bs4 import BeautifulSoup as soup\n",
    "from urllib.request import urlopen"
   ]
  },
  {
   "cell_type": "code",
   "execution_count": 3,
   "metadata": {},
   "outputs": [],
   "source": [
    "premier_league_passing_url = 'https://www.premierleague.com/stats/top/players/total_pass'\n",
    "passing_data = urlopen(premier_league_passing_url)\n",
    "passing_data_html = passing_data.read()\n",
    "passing_data.close()\n",
    "\n",
    "premier_league_shots_url = 'https://www.premierleague.com/stats/top/players/total_scoring_att'\n",
    "shots_data = urlopen(premier_league_shots_url)\n",
    "shots_data_html = shots_data.read()\n",
    "shots_data.close()\n",
    "\n",
    "premier_league_assists_url = 'https://www.premierleague.com/stats/top/players/goal_assist'\n",
    "assists_data = urlopen(premier_league_assists_url)\n",
    "assists_data_html = assists_data.read()\n",
    "assists_data.close()\n",
    "\n",
    "premier_league_goals_url = 'https://www.premierleague.com/stats/top/players/goals'\n",
    "goals_data = urlopen(premier_league_goals_url)\n",
    "goals_data_html = goals_data.read()\n",
    "goals_data.close()\n",
    "\n",
    "premier_league_clean_sheets_url = 'https://www.premierleague.com/stats/top/players/clean_sheet'\n",
    "clean_sheets_data = urlopen(premier_league_clean_sheets_url)\n",
    "clean_sheets_data_html = clean_sheets_data.read()\n",
    "clean_sheets_data.close()\n",
    "\n",
    "premier_league_appearances_url = 'https://www.premierleague.com/stats/top/players/appearances'\n",
    "appearances_data = urlopen(premier_league_appearances_url)\n",
    "appearances_data_html = appearances_data.read()\n",
    "appearances_data.close()\n",
    "\n",
    "premier_league_minutes_played_url = 'https://www.premierleague.com/stats/top/players/mins_played'\n",
    "minutes_played_data = urlopen(premier_league_minutes_played_url)\n",
    "minutes_played_data_html = minutes_played_data.read()\n",
    "minutes_played_data.close()\n",
    "\n",
    "premier_league_touches_url = 'https://www.premierleague.com/stats/top/players/touches'\n",
    "touches_data = urlopen(premier_league_touches_url)\n",
    "touches_data_html = touches_data.read()\n",
    "touches_data.close()\n",
    "\n",
    "passing_soup = soup(passing_data_html, 'html.parser')\n",
    "shots_soup = soup(shots_data_html, 'html.parser')\n",
    "assists_soup = soup(assists_data_html, 'html.parser')\n",
    "goals_soup = soup(goals_data_html, 'html.parser')\n",
    "clean_sheets_soup = soup(clean_sheets_data_html, 'html.parser')\n",
    "appearances_soup = soup(appearances_data_html, 'html.parser')\n",
    "minutes_played_soup = soup(appearances_data_html, 'html.parser')\n",
    "touches_soup = soup(touches_data_html, 'html.parser')"
   ]
  },
  {
   "cell_type": "code",
   "execution_count": 4,
   "metadata": {},
   "outputs": [],
   "source": [
    "passing_table = passing_soup.findAll('div', {'class': 'table statsTable'})\n",
    "shots_table = shots_soup.findAll('div', {'class': 'table statsTable'})\n",
    "assists_table = assists_soup.findAll('div', {'class': 'table statsTable'})\n",
    "goals_table = goals_soup.findAll('div', {'class': 'table statsTable'})\n",
    "clean_sheets_table = clean_sheets_soup.findAll('div', {'class': 'table statsTable'})\n",
    "appearances_table = appearances_soup.findAll('div', {'class': 'table statsTable'})\n",
    "minutes_played_table = minutes_played_soup.findAll('div', {'class': 'table statsTable'})\n",
    "touches_table = touches_soup.findAll('div', {'class': 'table statsTable'})"
   ]
  },
  {
   "cell_type": "code",
   "execution_count": 13,
   "metadata": {},
   "outputs": [],
   "source": [
    "header_passing = passing_table.findAll('th', {})\n",
    "header_shots = shots_table.findAll('th', {})\n",
    "header_assists = assists_table.findAll('th', {})\n",
    "header_goals = goals_table.findAll('th', {})\n",
    "header_clean_sheets = clean_sheets_table.findAll('th', {})\n",
    "header_appearances = appearances_table.findAll('th', {})\n",
    "header_minutes_played = minutes_played_table.findAll('th', {})\n",
    "touches_table = touches_table[0]\n",
    "header_touches = touches_table.findAll('th', {})"
   ]
  },
  {
   "cell_type": "code",
   "execution_count": 14,
   "metadata": {},
   "outputs": [],
   "source": [
    "passing_title = []\n",
    "for header in header_passing:\n",
    "    passing_title.append(header.text)\n",
    "\n",
    "shots_title = []\n",
    "for header in header_shots:\n",
    "    shots_title.append(header.text)\n",
    "\n",
    "assists_title = []\n",
    "for header in header_assists:\n",
    "    assists_title.append(header.text)\n",
    "    \n",
    "goals_title = []\n",
    "for header in header_goals:\n",
    "    goals_title.append(header.text)\n",
    "    \n",
    "clean_sheets_title = []\n",
    "for header in header_clean_sheets:\n",
    "    clean_sheets_title.append(header.text)\n",
    "    \n",
    "appearances_title = []\n",
    "for header in header_appearances:\n",
    "    appearances_title.append(header.text)\n",
    "    \n",
    "minutes_played_title = []\n",
    "for header in header_minutes_played:\n",
    "    minutes_played_title.append(header.text)\n",
    "    \n",
    "touches_title = []\n",
    "for header in header_touches:\n",
    "    touches_title.append(header.text)"
   ]
  },
  {
   "cell_type": "code",
   "execution_count": 15,
   "metadata": {},
   "outputs": [],
   "source": [
    "passing_rows = passing_table.findAll('tr', {})\n",
    "shots_rows = shots_table.findAll('tr', {})\n",
    "assists_rows = assists_table.findAll('tr', {})\n",
    "goals_rows = goals_table.findAll('tr', {})\n",
    "clean_sheets_rows = clean_sheets_table.findAll('tr', {})\n",
    "appearances_rows = appearances_table.findAll('tr', {})\n",
    "minutes_played_rows = minutes_played_table.findAll('tr', {})\n",
    "touches_rows = touches_table.findAll('tr', {})"
   ]
  },
  {
   "cell_type": "code",
   "execution_count": 16,
   "metadata": {},
   "outputs": [],
   "source": [
    "passing_data = passing_rows[1:]\n",
    "shots_data = shots_rows[1:]\n",
    "assists_data = assists_rows[1:]\n",
    "goals_data = goals_rows[1:]\n",
    "clean_sheets_data = clean_sheets_rows[1:]\n",
    "appearances_data = appearances_rows[1:]\n",
    "minutes_played_data = minutes_played_rows[1:]\n",
    "touches_data = touches_rows[1:]"
   ]
  },
  {
   "cell_type": "code",
   "execution_count": 22,
   "metadata": {},
   "outputs": [],
   "source": [
    "passing = []\n",
    "for row in passing_data:\n",
    "    passing_row = []\n",
    "    row_data = row.findAll('td' , {})\n",
    "    for data_point in row_data:\n",
    "        passing_row.append(data_point.text[2:-1])\n",
    "    passing.append(passing_row)\n",
    "\n",
    "shots = []\n",
    "for row in shots_data:\n",
    "    shots_row = []\n",
    "    row_data = row.findAll('td' , {})\n",
    "    for data_point in row_data:\n",
    "        shots_row.append(data_point.text[2:-1])\n",
    "    shots.append(shots_row)\n",
    "    \n",
    "assists = []\n",
    "for row in assists_data:\n",
    "    assists_row = []\n",
    "    row_data = row.findAll('td' , {})\n",
    "    for data_point in row_data:\n",
    "        assists_row.append(data_point.text[2:-1])\n",
    "    assists.append(assists_row)\n",
    "    \n",
    "goals = []\n",
    "for row in goals_data:\n",
    "    goals_row = []\n",
    "    row_data = row.findAll('td' , {})\n",
    "    for data_point in row_data:\n",
    "        goals_row.append(data_point.text[2:-1])\n",
    "    goals.append(goals_row)\n",
    "    \n",
    "clean_sheets = []\n",
    "for row in clean_sheets_data:\n",
    "    clean_sheets_row = []\n",
    "    row_data = row.findAll('td' , {})\n",
    "    for data_point in row_data:\n",
    "        clean_sheets_row.append(data_point.text[2:-1])\n",
    "    clean_sheets.append(clean_sheets_row)\n",
    "    \n",
    "appearances = []\n",
    "for row in appearances_data:\n",
    "    appearances_row = []\n",
    "    row_data = row.findAll('td' , {})\n",
    "    for data_point in row_data:\n",
    "        appearances_row.append(data_point.text[2:-1])\n",
    "    appearances.append(appearances_row)\n",
    "    \n",
    "minutes_played = []\n",
    "for row in passing_data:\n",
    "    minutes_played_row = []\n",
    "    row_data = row.findAll('td' , {})\n",
    "    for data_point in row_data:\n",
    "        minutes_played_row.append(data_point.text[2:-1])\n",
    "    minutes_played.append(minutes_played_row)\n",
    "    \n",
    "touches = []\n",
    "for row in passing_data:\n",
    "    touches_row = []\n",
    "    row_data = row.findAll('td' , {})\n",
    "    for data_point in row_data:\n",
    "        touches_row.append(data_point.text[2:-1])\n",
    "    touches.append(touches_row)"
   ]
  },
  {
   "cell_type": "code",
   "execution_count": 25,
   "metadata": {},
   "outputs": [
    {
     "data": {
      "text/plain": [
       "50"
      ]
     },
     "execution_count": 25,
     "metadata": {},
     "output_type": "execute_result"
    }
   ],
   "source": [
    "passing_file = 'passing_table.csv'\n",
    "p = open(passing_file, 'w')\n",
    "\n",
    "passing_header_string = ''\n",
    "for title in passing_title:\n",
    "    passing_header_string += title + ','\n",
    "passing_header_string = passing_header_string[:-1]\n",
    "passing_header_string += '\\n'\n",
    "\n",
    "p.write(passing_header_string)\n",
    "\n"
   ]
  },
  {
   "cell_type": "code",
   "execution_count": null,
   "metadata": {},
   "outputs": [],
   "source": []
  }
 ],
 "metadata": {
  "kernelspec": {
   "display_name": "Python 3",
   "language": "python",
   "name": "python3"
  },
  "language_info": {
   "codemirror_mode": {
    "name": "ipython",
    "version": 3
   },
   "file_extension": ".py",
   "mimetype": "text/x-python",
   "name": "python",
   "nbconvert_exporter": "python",
   "pygments_lexer": "ipython3",
   "version": "3.7.3"
  }
 },
 "nbformat": 4,
 "nbformat_minor": 2
}
